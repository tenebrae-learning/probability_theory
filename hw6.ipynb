{
 "cells": [
  {
   "cell_type": "code",
   "execution_count": 19,
   "id": "failing-rugby",
   "metadata": {},
   "outputs": [],
   "source": [
    "import numpy as np\n",
    "import pandas as pd"
   ]
  },
  {
   "cell_type": "markdown",
   "id": "stretch-recorder",
   "metadata": {},
   "source": [
    "1. Даны значения величины заработной платы заемщиков банка (zp) и значения их поведенческого кредитного скоринга (ks):  \n",
    "zp = [35, 45, 190, 200, 40, 70, 54, 150, 120, 110],  \n",
    "ks = [401, 574, 874, 919, 459, 739, 653, 902, 746, 832].  \n",
    "Найдите ковариацию этих двух величин с помощью элементарных действий, а затем с помощью функции cov из numpy. Полученные значения должны быть равны."
   ]
  },
  {
   "cell_type": "code",
   "execution_count": 38,
   "id": "numeric-orientation",
   "metadata": {},
   "outputs": [
    {
     "data": {
      "text/plain": [
       "(9157.839999999982, 9157.84)"
      ]
     },
     "execution_count": 38,
     "metadata": {},
     "output_type": "execute_result"
    }
   ],
   "source": [
    "def cov_manual(arr1, arr2):\n",
    "    if len(arr1) != len(arr2):\n",
    "        return None\n",
    "    else:\n",
    "        return sum(arr1 * arr2) / len(arr1) - sum(arr1)/len(arr1) * sum(arr2) / len(arr2)\n",
    "    \n",
    "zp = np.array([35, 45, 190, 200, 40, 70, 54, 150, 120, 110])\n",
    "ks = np.array([401, 574, 874, 919, 459, 739, 653, 902, 746, 832])\n",
    "\n",
    "cov_manual(zp, ks), np.cov(zp, ks, bias=True)[0,1]"
   ]
  },
  {
   "cell_type": "markdown",
   "id": "sharing-chocolate",
   "metadata": {},
   "source": [
    "___"
   ]
  },
  {
   "cell_type": "markdown",
   "id": "resident-button",
   "metadata": {},
   "source": [
    "2. Найдите коэффициент корреляции Пирсона с помощью ковариации и среднеквадратичных отклонений двух признаков, а затем с использованием функций из библиотек numpy и pandas."
   ]
  },
  {
   "cell_type": "code",
   "execution_count": 45,
   "id": "peaceful-proceeding",
   "metadata": {},
   "outputs": [
    {
     "data": {
      "text/plain": [
       "(0.8874900920739144, 0.8874900920739162, 0.8874900920739162)"
      ]
     },
     "execution_count": 45,
     "metadata": {},
     "output_type": "execute_result"
    }
   ],
   "source": [
    "zp_ser = pd.Series(zp)\n",
    "ks_ser = pd.Series(ks)\n",
    "\n",
    "cov_manual(zp, ks) / (zp.std() * ks.std()), np.corrcoef(zp, ks)[0,1], zp_ser.corr(ks_ser)"
   ]
  },
  {
   "cell_type": "markdown",
   "id": "interracial-string",
   "metadata": {},
   "source": [
    "___"
   ]
  },
  {
   "cell_type": "markdown",
   "id": "unnecessary-decline",
   "metadata": {},
   "source": [
    "3. Измерены значения IQ выборки студентов, обучающихся в местных технических вузах:  \n",
    "131, 125, 115, 122, 131, 115, 107, 99, 125, 111.  \n",
    "Известно, что в генеральной совокупности IQ распределен нормально.  \n",
    "Найдите доверительный интервал для математического ожидания с надежностью 0.95.  "
   ]
  },
  {
   "cell_type": "code",
   "execution_count": 2,
   "id": "committed-affair",
   "metadata": {},
   "outputs": [
    {
     "data": {
      "text/plain": [
       "(118.1, 10, 10.004498987955369)"
      ]
     },
     "execution_count": 2,
     "metadata": {},
     "output_type": "execute_result"
    }
   ],
   "source": [
    "iq = np.array([131, 125, 115, 122, 131, 115, 107, 99, 125, 111])\n",
    "iq.mean(), len(iq), iq.std()"
   ]
  },
  {
   "cell_type": "markdown",
   "id": "complex-casting",
   "metadata": {},
   "source": [
    "$ \\bar{X}-t_{\\alpha=0.95, n=9}\\cdot\\frac{\\sigma_x}{\\sqrt{n}}<\\mu<\\bar{X}+t_{\\alpha=0.95, n=9}\\cdot\\frac{\\sigma_x}{\\sqrt{n}} $  \n",
    "\n",
    "$ \\bar{X} = 118.1 $  \n",
    "$ \\sigma_x = 10.005 $  \n",
    "$ n = 10 $  \n",
    "$ t_{\\alpha=0.95, n=9}=2.262 $  \n",
    "$ 118.1 - 2.262 \\cdot \\frac{10.005}{\\sqrt{10}}<\\mu<118.1 + 2.262 \\cdot \\frac{10.005}{\\sqrt{10}} \\Rightarrow $  \n",
    "\n",
    "$$ 110.94<\\mu<125.26 $$\n",
    "\n"
   ]
  },
  {
   "cell_type": "markdown",
   "id": "parallel-carroll",
   "metadata": {},
   "source": [
    "___"
   ]
  },
  {
   "cell_type": "markdown",
   "id": "needed-diameter",
   "metadata": {},
   "source": [
    "4. Известно, что рост футболистов в сборной распределен нормально с дисперсией генеральной совокупности, равной 25 кв.см. Объем выборки равен 27, среднее выборочное составляет 174.2. Найдите доверительный интервал для математического ожидания с надежностью 0.95."
   ]
  },
  {
   "cell_type": "markdown",
   "id": "outer-brick",
   "metadata": {},
   "source": [
    "$ \\sigma^2 = 25 $  \n",
    "$ n = 27 $  \n",
    "$ \\bar{X} = 174.2 $  \n",
    "$ \\alpha = 0.05 $  \n",
    "\n",
    "$ \\sigma = 5 $  \n",
    "$ t_{\\alpha=0.95, n=26}=2.056 $  \n",
    "\n",
    "$ 174.2 - 2.056 \\cdot \\frac{5}{\\sqrt{27}}<\\mu<174.2 + 2.056 \\cdot \\frac{5}{\\sqrt{27}} \\Rightarrow $  \n",
    "\n",
    "$$ 172.22<\\mu<176.18 $$"
   ]
  }
 ],
 "metadata": {
  "kernelspec": {
   "display_name": "Python 3",
   "language": "python",
   "name": "python3"
  },
  "language_info": {
   "codemirror_mode": {
    "name": "ipython",
    "version": 3
   },
   "file_extension": ".py",
   "mimetype": "text/x-python",
   "name": "python",
   "nbconvert_exporter": "python",
   "pygments_lexer": "ipython3",
   "version": "3.8.8"
  },
  "varInspector": {
   "cols": {
    "lenName": 16,
    "lenType": 16,
    "lenVar": 40
   },
   "kernels_config": {
    "python": {
     "delete_cmd_postfix": "",
     "delete_cmd_prefix": "del ",
     "library": "var_list.py",
     "varRefreshCmd": "print(var_dic_list())"
    },
    "r": {
     "delete_cmd_postfix": ") ",
     "delete_cmd_prefix": "rm(",
     "library": "var_list.r",
     "varRefreshCmd": "cat(var_dic_list()) "
    }
   },
   "types_to_exclude": [
    "module",
    "function",
    "builtin_function_or_method",
    "instance",
    "_Feature"
   ],
   "window_display": false
  }
 },
 "nbformat": 4,
 "nbformat_minor": 5
}
