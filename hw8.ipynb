{
 "cells": [
  {
   "cell_type": "code",
   "execution_count": 15,
   "id": "radical-shanghai",
   "metadata": {},
   "outputs": [],
   "source": [
    "import numpy as np\n",
    "from scipy import stats"
   ]
  },
  {
   "cell_type": "markdown",
   "id": "aboriginal-accused",
   "metadata": {},
   "source": [
    "Провести дисперсионный анализ для определения того, есть ли различия среднего роста среди взрослых футболистов, хоккеистов и штангистов.  \n",
    "Даны значения роста в трех группах случайно выбранных спортсменов:  \n",
    "\n",
    "Футболисты: 173, 175, 180, 178, 177, 185, 183, 182.  \n",
    "Хоккеисты: 177, 179, 180, 188, 177, 172, 171, 184, 180.  \n",
    "Штангисты: 172, 173, 169, 177, 166, 180, 178, 177, 172, 166, 170.  \n",
    "alpha = 0.05.  "
   ]
  },
  {
   "cell_type": "code",
   "execution_count": 26,
   "id": "annual-constitution",
   "metadata": {},
   "outputs": [],
   "source": [
    "fb = np.array([173, 175, 180, 178, 177, 185, 183, 182])\n",
    "hk = np.array([177, 179, 180, 188, 177, 172, 171, 184, 180])\n",
    "pl = np.array([172, 173, 169, 177, 166, 180, 178, 177, 172, 166, 170])\n",
    "alpha = 0.05\n",
    "\n",
    "fb_mean = fb.mean()\n",
    "hk_mean = hk.mean()\n",
    "pl_mean = pl.mean()"
   ]
  },
  {
   "cell_type": "code",
   "execution_count": 21,
   "id": "large-sense",
   "metadata": {},
   "outputs": [],
   "source": [
    "h_all = np.concatenate([fb, hk, pl])\n",
    "h_mean = h_all.mean()\n",
    "n = len(h_all)\n",
    "k = 3"
   ]
  },
  {
   "cell_type": "code",
   "execution_count": 9,
   "id": "paperback-killer",
   "metadata": {},
   "outputs": [
    {
     "data": {
      "text/plain": [
       "830.9642857142854"
      ]
     },
     "execution_count": 9,
     "metadata": {},
     "output_type": "execute_result"
    }
   ],
   "source": [
    "s2 = np.sum((h_all - h_mean) ** 2)\n",
    "s2"
   ]
  },
  {
   "cell_type": "code",
   "execution_count": 14,
   "id": "consecutive-bowling",
   "metadata": {},
   "outputs": [
    {
     "data": {
      "text/plain": [
       "253.9074675324678"
      ]
     },
     "execution_count": 14,
     "metadata": {},
     "output_type": "execute_result"
    }
   ],
   "source": [
    "s2_f = ((fb_mean - h_mean) ** 2) * len(fb) + \\\n",
    "       ((hk_mean - h_mean) ** 2) * len(hk) + \\\n",
    "       ((pl_mean - h_mean) ** 2) * len(pl)\n",
    "s2_f"
   ]
  },
  {
   "cell_type": "code",
   "execution_count": 19,
   "id": "southern-watson",
   "metadata": {},
   "outputs": [
    {
     "data": {
      "text/plain": [
       "577.0568181818182"
      ]
     },
     "execution_count": 19,
     "metadata": {},
     "output_type": "execute_result"
    }
   ],
   "source": [
    "s2_res = np.sum((fb - fb_mean) ** 2) + \\\n",
    "         np.sum((hk - hk_mean) ** 2) + \\\n",
    "         np.sum((pl - pl_mean) ** 2)\n",
    "s2_res"
   ]
  },
  {
   "cell_type": "code",
   "execution_count": 23,
   "id": "dominant-planner",
   "metadata": {},
   "outputs": [
    {
     "data": {
      "text/plain": [
       "(30.776455026455015, 126.9537337662339, 23.08227272727273)"
      ]
     },
     "execution_count": 23,
     "metadata": {},
     "output_type": "execute_result"
    }
   ],
   "source": [
    "sigma2_gen = s2 / (n - 1)\n",
    "sigma2_f = s2_f / (k - 1)\n",
    "sigma2_res = s2_res / (n - k)\n",
    "\n",
    "sigma2_gen, sigma2_f, sigma2_res"
   ]
  },
  {
   "cell_type": "code",
   "execution_count": 24,
   "id": "abandoned-humor",
   "metadata": {},
   "outputs": [
    {
     "data": {
      "text/plain": [
       "5.500053450812598"
      ]
     },
     "execution_count": 24,
     "metadata": {},
     "output_type": "execute_result"
    }
   ],
   "source": [
    "f_h = sigma2_f / sigma2_res\n",
    "f_h"
   ]
  },
  {
   "cell_type": "markdown",
   "id": "economic-pierre",
   "metadata": {},
   "source": [
    "Получили значение статистики $F_{H} = 5.5$"
   ]
  },
  {
   "cell_type": "code",
   "execution_count": 27,
   "id": "peaceful-laser",
   "metadata": {},
   "outputs": [
    {
     "data": {
      "text/plain": [
       "(0.05, 2, 25)"
      ]
     },
     "execution_count": 27,
     "metadata": {},
     "output_type": "execute_result"
    }
   ],
   "source": [
    "alpha, k - 1, n - k"
   ]
  },
  {
   "cell_type": "markdown",
   "id": "breeding-extraction",
   "metadata": {},
   "source": [
    "Значение $F_{crit}$ для уровня значимости $\\alpha = 0.05$, $df_{межд}=2$ и $df_{внутр}=25$  \n",
    "\n",
    "$$ F_{crit} = 3.38  $$"
   ]
  },
  {
   "cell_type": "markdown",
   "id": "solar-marsh",
   "metadata": {},
   "source": [
    "Так как $F_H > F_{crit}$ - разница в росте по представленным группам статистически значима"
   ]
  },
  {
   "cell_type": "markdown",
   "id": "equipped-drinking",
   "metadata": {},
   "source": [
    "С помощью функции f_oneway библиотеки scipy"
   ]
  },
  {
   "cell_type": "code",
   "execution_count": 17,
   "id": "peaceful-brake",
   "metadata": {},
   "outputs": [
    {
     "data": {
      "text/plain": [
       "F_onewayResult(statistic=5.500053450812596, pvalue=0.010482206918698694)"
      ]
     },
     "execution_count": 17,
     "metadata": {},
     "output_type": "execute_result"
    }
   ],
   "source": [
    "result = stats.f_oneway(fb, hk, pl)\n",
    "result"
   ]
  }
 ],
 "metadata": {
  "kernelspec": {
   "display_name": "Python 3",
   "language": "python",
   "name": "python3"
  },
  "language_info": {
   "codemirror_mode": {
    "name": "ipython",
    "version": 3
   },
   "file_extension": ".py",
   "mimetype": "text/x-python",
   "name": "python",
   "nbconvert_exporter": "python",
   "pygments_lexer": "ipython3",
   "version": "3.8.8"
  },
  "varInspector": {
   "cols": {
    "lenName": 16,
    "lenType": 16,
    "lenVar": 40
   },
   "kernels_config": {
    "python": {
     "delete_cmd_postfix": "",
     "delete_cmd_prefix": "del ",
     "library": "var_list.py",
     "varRefreshCmd": "print(var_dic_list())"
    },
    "r": {
     "delete_cmd_postfix": ") ",
     "delete_cmd_prefix": "rm(",
     "library": "var_list.r",
     "varRefreshCmd": "cat(var_dic_list()) "
    }
   },
   "types_to_exclude": [
    "module",
    "function",
    "builtin_function_or_method",
    "instance",
    "_Feature"
   ],
   "window_display": false
  }
 },
 "nbformat": 4,
 "nbformat_minor": 5
}
