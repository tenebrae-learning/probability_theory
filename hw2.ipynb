{
 "cells": [
  {
   "cell_type": "code",
   "execution_count": 1,
   "metadata": {},
   "outputs": [],
   "source": [
    "import numpy as np\n",
    "from math import comb\n",
    "import matplotlib.pyplot as plt\n",
    "from scipy.special import factorial\n",
    "%matplotlib inline"
   ]
  },
  {
   "cell_type": "code",
   "execution_count": 2,
   "metadata": {},
   "outputs": [],
   "source": [
    "binom_prob = lambda n, k, p: comb(n, k) * (p ** k) * ((1 - p) ** (n - k))"
   ]
  },
  {
   "cell_type": "markdown",
   "metadata": {},
   "source": [
    "1. Вероятность того, что стрелок попадет в мишень, выстрелив один раз, равна 0.8. Стрелок выстрелил 100 раз. Найдите вероятность того, что стрелок попадет в цель ровно 85 раз."
   ]
  },
  {
   "cell_type": "markdown",
   "metadata": {},
   "source": [
    "По формуле биномиального распределения:  \n",
    "\n",
    "$$ P_k = C_n^k \\cdot p^k \\cdot q^{n-k} $$  \n",
    "\n",
    "где  \n",
    "n - общее количество испытаний (100)  \n",
    "k - количество испытаний с требуемым результатом (в нашем случае с попаданием в цель (85))  \n",
    "p - вероятность успеха (у нас 0.8)  \n",
    "q - вероятность неудачи (1 - 0.8 = 0.2)  \n",
    "\n",
    "$P_{85} = C_{100}^{85} \\cdot 0.8^{85} \\cdot 0.2^{15} \\approx 0.048 $"
   ]
  },
  {
   "cell_type": "code",
   "execution_count": 3,
   "metadata": {},
   "outputs": [
    {
     "data": {
      "text/plain": [
       "0.048061793700746355"
      ]
     },
     "execution_count": 3,
     "metadata": {},
     "output_type": "execute_result"
    }
   ],
   "source": [
    "binom_prob(100, 85, 0.8)"
   ]
  },
  {
   "cell_type": "code",
   "execution_count": 4,
   "metadata": {},
   "outputs": [
    {
     "data": {
      "image/png": "[encoded data removed]",
      "text/plain": [
       "<Figure size 432x288 with 1 Axes>"
      ]
     },
     "metadata": {
      "needs_background": "light"
     },
     "output_type": "display_data"
    }
   ],
   "source": [
    "n = 100\n",
    "p = 0.8\n",
    "x = np.arange(1, n + 1)\n",
    "y = [binom_prob(n, i, p) for i in x]\n",
    "plt.plot(x, y)\n",
    "plt.show()"
   ]
  },
  {
   "cell_type": "markdown",
   "metadata": {},
   "source": [
    "___"
   ]
  },
  {
   "cell_type": "markdown",
   "metadata": {},
   "source": [
    "2. Вероятность того, что лампочка перегорит в течение первого дня эксплуатации, равна 0.0004. В жилом комплексе после ремонта в один день включили 5000 новых лампочек. Какова вероятность, что ни одна из них не перегорит в первый день? Какова вероятность, что перегорят ровно две?"
   ]
  },
  {
   "cell_type": "markdown",
   "metadata": {},
   "source": [
    "Воспользуемся распределением Пуассона:  \n",
    "\n",
    "$$ P_m \\approx \\frac{\\lambda^m}{m!}{e}^{-\\lambda} $$  \n",
    "\n",
    "где $ \\lambda = np $  \n",
    "\n",
    "В нашем случае  \n",
    "\n",
    "$ p = 0.0004 $  \n",
    "$ n = 5000 $  \n",
    "\n",
    "Отсюда,\n",
    "\n",
    "$ \\lambda = 2 $\n",
    "\n",
    "Ни одна не перегорит с вероятностью  \n",
    "\n",
    "$ P_0 \\approx \\frac{2^0}{0!}{e}^{-2} \\approx 0.135 $  \n",
    "\n",
    "Ровно две перегорят с вероятностью  \n",
    "\n",
    "$ P_2 \\approx \\frac{2^2}{2!}{e}^{-2} \\approx 0.270 $  \n"
   ]
  },
  {
   "cell_type": "code",
   "execution_count": 5,
   "metadata": {},
   "outputs": [
    {
     "data": {
      "image/png": "[encoded data removed]",
      "text/plain": [
       "<Figure size 432x288 with 1 Axes>"
      ]
     },
     "metadata": {
      "needs_background": "light"
     },
     "output_type": "display_data"
    }
   ],
   "source": [
    "p = 0.0004\n",
    "n = 5000\n",
    "lmb = n * p\n",
    "x = np.arange(0, 20)\n",
    "y = ((lmb ** x)/factorial(x))*np.exp(-lmb)\n",
    "plt.plot(x, y)\n",
    "plt.show()"
   ]
  },
  {
   "cell_type": "markdown",
   "metadata": {},
   "source": [
    "___"
   ]
  },
  {
   "cell_type": "markdown",
   "metadata": {},
   "source": [
    "3. Монету подбросили 144 раза. Какова вероятность, что орел выпадет ровно 70 раз?"
   ]
  },
  {
   "cell_type": "markdown",
   "metadata": {},
   "source": [
    "Формула биномиального распределения в случае события с 0.5 вероятностью принимает вид:  \n",
    "\n",
    "$$ P_k = C_n^k \\cdot p^k \\cdot q^{n-k} = C_n^k \\cdot (\\frac{1}{2})^k \\cdot (\\frac{1}{2})^{n-k} = C_n^k \\cdot (\\frac{1}{2})^{k+n-k} = C_n^k \\cdot \\frac{1}{2^n} $$  \n",
    "\n",
    "$ P_{70} = C_{144}^{70}\\cdot\\frac{1}{2^{144}} \\approx 0.0628 $"
   ]
  },
  {
   "cell_type": "code",
   "execution_count": 6,
   "metadata": {},
   "outputs": [
    {
     "data": {
      "text/plain": [
       "0.06281178035144776"
      ]
     },
     "execution_count": 6,
     "metadata": {},
     "output_type": "execute_result"
    }
   ],
   "source": [
    "binom_prob(144, 70, 0.5)"
   ]
  },
  {
   "cell_type": "code",
   "execution_count": 7,
   "metadata": {},
   "outputs": [
    {
     "data": {
      "image/png": "[encoded data removed]",
      "text/plain": [
       "<Figure size 432x288 with 1 Axes>"
      ]
     },
     "metadata": {
      "needs_background": "light"
     },
     "output_type": "display_data"
    }
   ],
   "source": [
    "n = 144\n",
    "p = 0.5\n",
    "x = np.arange(1, n + 1)\n",
    "y = [binom_prob(n, i, p) for i in x]\n",
    "plt.plot(x, y)\n",
    "plt.show()"
   ]
  },
  {
   "cell_type": "markdown",
   "metadata": {},
   "source": [
    "___"
   ]
  },
  {
   "cell_type": "markdown",
   "metadata": {},
   "source": [
    "4. В первом ящике находится 10 мячей, из которых 7 - белые. Во втором ящике - 11 мячей, из которых 9 белых. Из каждого ящика вытаскивают случайным образом по два мяча. \n",
    "- Какова вероятность того, что все мячи белые? \n",
    "- Какова вероятность того, что ровно два мяча белые? \n",
    "- Какова вероятность того, что хотя бы один мяч белый?"
   ]
  },
  {
   "cell_type": "markdown",
   "metadata": {},
   "source": [
    "Вероятность, что все мячи белые состоит из вероятности вытащить 2 белых мяча из первой корзины и 2 белых мяча из второй.  \n",
    "\n",
    "- Вероятность вытащить 2 белых мяча из первой корзины будет равна: $ \\frac{7}{10} \\cdot \\frac{6}{9} = \\frac{7}{15} $\n",
    "- Вероятность вытащить 2 белых мяча из второй корзины будет равна: $ \\frac{9}{11} \\cdot \\frac{8}{10} = \\frac{36}{55} $  \n",
    "\n",
    "Отсюда, вероятность, что все мячи белые будет  \n",
    "\n",
    "$ \\frac{7}{15}\\cdot\\frac{36}{55} = \\frac{252}{825} = \\frac{84}{275} \\approx 0.305 $  \n",
    "\n",
    "Либо, пользуясь формулой $C_n^k$  \n",
    "\n",
    "$ \\frac{C_7^2 \\cdot C_3^0}{C_{10}^2} \\cdot \\frac{C_9^2 \\cdot C_2^0}{C_{11}^2} $"
   ]
  },
  {
   "cell_type": "markdown",
   "metadata": {},
   "source": [
    "Вероятность того, что ровно два мяча белые, состоит из вероятности  \n",
    "- что два белых мяча из первой корзины и ни одного из второй  \n",
    "- один белый мяч из первой корзины и один из второй  \n",
    "- ни одного из первой корзины и два из второй  \n",
    "\n",
    "$ \\frac{C_7^2 \\cdot C_3^0}{C_{10}^2} \\cdot \\frac{C_9^0 \\cdot C_2^2}{C_{11}^2} + \\frac{C_7^1 \\cdot C_3^1}{C_{10}^2} \\cdot \\frac{C_9^1 \\cdot C_2^1}{C_{11}^2} + \\frac{C_7^0 \\cdot C_3^2}{C_{10}^2} \\cdot \\frac{C_9^2 \\cdot C_2^0}{C_{11}^2} = \\frac{\\frac{7!}{2!5!}}{\\frac{10!}{2!8!}} \\cdot \\frac{1}{\\frac{11!}{2!9!}}+\\frac{\\frac{7!}{6!} \\cdot \\frac{3!}{2!}}{\\frac{10!}{2!8!}} \\cdot \\frac{\\frac{9!}{8!}\\cdot 2}{\\frac{11!}{2!9!}}+\\frac{\\frac{3!}{2!}}{\\frac{10!}{2!8!}} \\cdot \\frac{\\frac{9!}{2!7!}}{\\frac{11!}{2!9!}} = \\frac{7!}{2!5!} \\cdot \\frac{2!8!}{10!}\\cdot \\frac{2!9!}{11!}+\\frac{7!3!}{6!2!}\\cdot\\frac{2!8!}{10!}\\cdot\\frac{2\\cdot 9!}{8!}\\cdot\\frac{2!9!}{11!}+\\frac{3!}{2!}\\cdot\\frac{2!8!}{10!}\\cdot\\frac{9!}{2!7!}\\cdot\\frac{2!9!}{11!} = \\frac{2!7!8!9!}{5!10!11!}+\\frac{4 \\cdot 3!7!9!9!}{6!10!11!}+\\frac{3!8!9!9!}{7!10!11!} = \\frac{7}{825}+\\frac{42}{275}+\\frac{12}{275} = \\frac{7+3 \\cdot 42+3 \\cdot 12}{825} = \\frac{169}{825} \\approx 0.205$"
   ]
  },
  {
   "cell_type": "markdown",
   "metadata": {},
   "source": [
    "Вероятность того, что хотя бы один мяч белый состоит из:  \n",
    "\n",
    "- мы вытащили 1 белый мяч и 3 другого цвета \n",
    "- мы вытащили 2 белых мяча и 2 другого цвета (эту вероятность мы нашли во втором случае)\n",
    "- мы вытащили 3 белых мяча и 1 прочих цветов \n",
    "- мы вытащили 4 белых мяча (эту вероятность мы нашли в первом случае)"
   ]
  },
  {
   "cell_type": "markdown",
   "metadata": {},
   "source": [
    "Вероятность вытащить ровно один белый мяч равна:  \n",
    "\n",
    "$ \\frac{C_7^1C_3^1}{C_{10}^2}\\cdot\\frac{C_9^0C_2^2}{C_{11}^2}+\\frac{C_7^0C_3^2}{C_{10}^2}\\cdot\\frac{C_9^1C_2^1}{C_{11}^2} $"
   ]
  },
  {
   "cell_type": "markdown",
   "metadata": {},
   "source": [
    "Вероятность вытащить 3 белых мяча равна:  \n",
    "\n",
    "$ \\frac{C_7^2C_3^0}{C_{10}^2}\\cdot\\frac{C_9^1C_2^1}{C_{11}^2}+\\frac{C_7^1C_3^1}{C_{10}^2}\\cdot\\frac{C_9^2C_2^0}{C_{11}^2} $"
   ]
  },
  {
   "cell_type": "markdown",
   "metadata": {},
   "source": [
    "Общая вероятность вытащить хотя бы один белый мяч равна:  \n",
    "\n",
    "$ \\bigg(\\frac{C_7^1C_3^1}{C_{10}^2}\\cdot\\frac{C_9^0C_2^2}{C_{11}^2}+\\frac{C_7^0C_3^2}{C_{10}^2}\\cdot\\frac{C_9^1C_2^1}{C_{11}^2}\\bigg)+\\bigg(\\frac{C_7^2 \\cdot C_3^0}{C_{10}^2} \\cdot \\frac{C_9^0 \\cdot C_2^2}{C_{11}^2} + \\frac{C_7^1 \\cdot C_3^1}{C_{10}^2} \\cdot \\frac{C_9^1 \\cdot C_2^1}{C_{11}^2} + \\frac{C_7^0 \\cdot C_3^2}{C_{10}^2} \\cdot \\frac{C_9^2 \\cdot C_2^0}{C_{11}^2}\\bigg)+\\bigg(\\frac{C_7^2C_3^0}{C_{10}^2}\\cdot\\frac{C_9^1C_2^1}{C_{11}^2}+\\frac{C_7^1C_3^1}{C_{10}^2}\\cdot\\frac{C_9^2C_2^0}{C_{11}^2}\\bigg)+\\bigg(\\frac{C_7^2 \\cdot C_3^0}{C_{10}^2} \\cdot \\frac{C_9^2 \\cdot C_2^0}{C_{11}^2}\\bigg) $"
   ]
  },
  {
   "cell_type": "markdown",
   "metadata": {},
   "source": [
    "Вычисление такой формулы достаточно трудоемкая задача, поэтому мы можем пойти от обратного, найти вероятность того, что ни одного белого мяча не будет вытащено и вычесть эту вероятность из 1"
   ]
  },
  {
   "cell_type": "markdown",
   "metadata": {},
   "source": [
    "$ \\frac{C_7^0C_3^2}{C_{10}^2}\\cdot\\frac{C_9^0C_2^2}{C_{11}^2} = \\frac{\\frac{3!}{2!}}{\\frac{10!}{2!8!}}\\cdot \\frac{1}{\\frac{11!}{2!9!}} = \\frac{3!}{2!}\\cdot \\frac{2!8!}{10!} \\cdot \\frac{2!9!}{11!} = \\frac{2!3!8!9!}{10!11!} = \\frac{2 \\cdot 2 \\cdot 3}{9 \\cdot 10 \\cdot 10 \\cdot 11} = \\frac{1}{3 \\cdot 5 \\cdot 5 \\cdot 11} = \\frac{1}{825} $  \n",
    "\n",
    "А значит, вероятность вытащить хотя бы один белый мяч будет равна:  \n",
    "\n",
    "$ 1 - \\frac{1}{825} = \\frac{824}{825} = 0.9988 $"
   ]
  }
 ],
 "metadata": {
  "kernelspec": {
   "display_name": "Python 3",
   "language": "python",
   "name": "python3"
  },
  "language_info": {
   "codemirror_mode": {
    "name": "ipython",
    "version": 3
   },
   "file_extension": ".py",
   "mimetype": "text/x-python",
   "name": "python",
   "nbconvert_exporter": "python",
   "pygments_lexer": "ipython3",
   "version": "3.8.5"
  },
  "varInspector": {
   "cols": {
    "lenName": 16,
    "lenType": 16,
    "lenVar": 40
   },
   "kernels_config": {
    "python": {
     "delete_cmd_postfix": "",
     "delete_cmd_prefix": "del ",
     "library": "var_list.py",
     "varRefreshCmd": "print(var_dic_list())"
    },
    "r": {
     "delete_cmd_postfix": ") ",
     "delete_cmd_prefix": "rm(",
     "library": "var_list.r",
     "varRefreshCmd": "cat(var_dic_list()) "
    }
   },
   "types_to_exclude": [
    "module",
    "function",
    "builtin_function_or_method",
    "instance",
    "_Feature"
   ],
   "window_display": false
  }
 },
 "nbformat": 4,
 "nbformat_minor": 4
}
