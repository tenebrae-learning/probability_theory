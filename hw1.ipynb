{
 "cells": [
  {
   "cell_type": "markdown",
   "metadata": {},
   "source": [
    "1. Из колоды в 52 карты извлекаются случайным образом 4 карты. \n",
    "\n",
    "- Найти вероятность того, что все карты – крести. \n",
    "- Найти вероятность, что среди 4-х карт окажется хотя бы один туз."
   ]
  },
  {
   "cell_type": "markdown",
   "metadata": {},
   "source": [
    "Вероятность можно найти по формуле  \n",
    "\n",
    "$ P = \\frac{C_K^k \\cdot C_{N-K}^{n-k}}{C_N^n} = \\frac{C_{13}^4 \\cdot C_{39}^{0}}{C_{52}^4}$ - для первого случая  \n",
    "$ P = \\frac{C_K^k \\cdot C_{N-K}^{n-k}}{C_N^n} = \\frac{C_{4}^1 \\cdot C_{48}^{3}}{C_{52}^4}+\\frac{C_{4}^2 \\cdot C_{48}^{2}}{C_{52}^4}+\\frac{C_{4}^3 \\cdot C_{48}^{1}}{C_{52}^4}+\\frac{C_{4}^4 \\cdot C_{48}^{0}}{C_{52}^4}$ - для второго    \n",
    "\n",
    "Сначала найдем число вариантов вытащить 4 карты из колоды  \n",
    "\n",
    "$ C_{52}^4 = \\frac{52!}{4!\\cdot 48!} = \\frac{49 \\cdot 50 \\cdot 51 \\cdot 52}{2 \\cdot 3 \\cdot 4} = 270725 $  \n",
    "\n",
    "Найдем количество вариантов вытащить 4 крести из возможных  \n",
    "$ C_{13}^4 = \\frac{13!}{4! \\cdot 9!} = \\frac{10 \\cdot 11 \\cdot 12 \\cdot 13}{2 \\cdot 3 \\cdot 4} = 715 $  \n",
    "\n",
    "Один туз из 4х в колоде  \n",
    "$ C_{4}^1 = \\frac{4!}{1! \\cdot 3!} = 4 $  \n",
    "\n",
    "Два туза  \n",
    "$ C_{4}^2 = \\frac{4!}{2! \\cdot 2!} = 6 $  \n",
    "\n",
    "Три туза  \n",
    "$ C_{4}^3 = \\frac{4!}{3! \\cdot 1!} = 4 $  \n",
    "\n",
    "Четыре туза  \n",
    "$ C_{4}^4 = \\frac{4!}{4! \\cdot 0!} = 1 $  \n",
    "\n",
    "Три любых других карты из оставшейся колоды  \n",
    "$ C_{48}^3 = \\frac{48!}{3! \\cdot 45!} = \\frac{46 \\cdot 47 \\cdot 48}{2 \\cdot 3} = 17296 $  \n",
    "\n",
    "Две любых других карты из оставшейся колоды  \n",
    "$ C_{48}^2 = \\frac{48!}{2! \\cdot 46!} = 1128 $  \n",
    "\n",
    "Одна любая другая карта из оставшейся колоды  \n",
    "$ C_{48}^1 = \\frac{48!}{1! \\cdot 47!} = 48 $  \n",
    "\n",
    "\n",
    "Для первого случая  \n",
    "\n",
    "$ P = \\frac{C_{13}^4 \\cdot C_{39}^{0}}{C_{52}^4} = \\frac{715 \\cdot 1}{270725} = \\frac{143}{54145} \\approx 0.0026 $  \n",
    "\n",
    "Для второго случая  \n",
    "\n",
    "$ P = \\frac{C_{4}^1 \\cdot C_{48}^{3}}{C_{52}^4}+\\frac{C_{4}^2 \\cdot C_{48}^{2}}{C_{52}^4}+\\frac{C_{4}^3 \\cdot C_{48}^{1}}{C_{52}^4}+\\frac{C_{4}^4 \\cdot C_{48}^{0}}{C_{52}^4} = \\frac{4 \\cdot 17296}{270725}+\\frac{6 \\cdot 1128}{270725}+\\frac{4 \\cdot 48}{270725}+\\frac{1 \\cdot 1}{270725} = \\frac{69184}{270725}+\\frac{6768}{270725}+\\frac{192}{270725}+\\frac{1}{270725} = \\frac{76145}{270725} \\approx 0.281$\n",
    "___"
   ]
  },
  {
   "cell_type": "code",
   "execution_count": 8,
   "metadata": {},
   "outputs": [
    {
     "data": {
      "text/plain": [
       "48.0"
      ]
     },
     "execution_count": 8,
     "metadata": {},
     "output_type": "execute_result"
    }
   ],
   "source": [
    "def c_n_k(n, k):\n",
    "    return np.math.factorial(n) / (np.math.factorial(k) * np.math.factorial(n - k))\n",
    "\n",
    "c_n_k(48, 1)"
   ]
  },
  {
   "cell_type": "markdown",
   "metadata": {},
   "source": [
    "2. На входной двери подъезда установлен кодовый замок, содержащий десять кнопок с цифрами от 0 до 9. Код содержит три цифры, которые нужно нажать одновременно. Какова вероятность того, что человек, не знающий код, откроет дверь с первой попытки?"
   ]
  },
  {
   "cell_type": "markdown",
   "metadata": {},
   "source": [
    "Воспользуемся формулой:  \n",
    "\n",
    "$ C_n^k = \\frac{n!}{k!(n-k)!} = \\frac{10!}{3!\\cdot7!} = \\frac{8 \\cdot 9 \\cdot 10}{2 \\cdot 3} = 120 $  \n",
    "\n",
    "Следовательно, вероятность открыть с первой попытки - $\\frac{1}{120}$  \n"
   ]
  },
  {
   "cell_type": "code",
   "execution_count": 8,
   "metadata": {},
   "outputs": [
    {
     "data": {
      "text/plain": [
       "120"
      ]
     },
     "execution_count": 8,
     "metadata": {},
     "output_type": "execute_result"
    }
   ],
   "source": [
    "from itertools import permutations, combinations\n",
    "\n",
    "l = []\n",
    "for item in combinations('0123456789', 3):\n",
    "    l.append(''.join(item))\n",
    "len(l)"
   ]
  },
  {
   "cell_type": "markdown",
   "metadata": {},
   "source": [
    "___"
   ]
  },
  {
   "cell_type": "markdown",
   "metadata": {},
   "source": [
    "3. В ящике имеется 15 деталей, из которых 9 окрашены. Рабочий случайным образом извлекает 3 детали. Какова вероятность того, что все извлеченные детали окрашены?"
   ]
  },
  {
   "cell_type": "markdown",
   "metadata": {},
   "source": [
    "Рассмотрим 2 варианта решения.  \n",
    "\n",
    "1)  Вероятность достать окрашенную деталь в первый раз - $ \\frac{9}{15} $, во второй - $ \\frac{8}{14} $, в третий - $ \\frac{7}{13} $  \n",
    "\n",
    "Отсюда,  \n",
    "\n",
    "$$ P = \\frac{9}{15} \\cdot \\frac{8}{14} \\cdot \\frac{7}{13} = \\frac{504}{2730} = \\frac{84}{455} $$  \n",
    "\n",
    "2) По формуле $C_n^k$  \n",
    "\n",
    "$ P = \\frac{C_K^k \\cdot C_{N-K}^{n-k}}{C_N^n} = \\frac{C_9^3 \\cdot C_{6}^0}{C_{15}^3} $  \n",
    "\n",
    "$ C_9^3 = \\frac{9!}{3! \\cdot 6!} = \\frac{7 \\cdot 8 \\cdot 9}{2 \\cdot 3} = 84 $  \n",
    "$ C_{15}^3 = \\frac{15!}{3! \\cdot 12!} = \\frac{13 \\cdot 14 \\cdot 15}{2 \\cdot 3} = 455 $  \n",
    "\n",
    "$$ P = \\frac{84}{455} $$  \n",
    "\n",
    "___"
   ]
  },
  {
   "cell_type": "markdown",
   "metadata": {},
   "source": [
    "4. В лотерее 100 билетов. Из них 2 выигрышных. Какова вероятность того, что 2 приобретенных билета окажутся выигрышными?"
   ]
  },
  {
   "cell_type": "markdown",
   "metadata": {},
   "source": [
    "Как и в предыдущем примере, решим двумя способами.  \n",
    "\n",
    "Например, вероятность, что первый билет окажется выигрышным, составляет $\\frac{2}{100}$ или $\\frac{1}{50}$. Так как количество билетов уменьшилось на 1, так же как и количество выигрышных билетов, то вероятность второго такого же $\\frac{1}{99}$  \n",
    "\n",
    "А значит,  \n",
    "\n",
    "$$ P = \\frac{1}{50}\\cdot \\frac{1}{99} = \\frac{1}{4950} $$  \n",
    "\n",
    "Либо, по формуле $C_n^k$  \n",
    "\n",
    "$ P = \\frac{C_K^k \\cdot C_{N-K}^{n-k}}{C_N^n} = \\frac{C_2^2 \\cdot C_{98}^0}{C_{100}^2} $\n",
    "\n",
    "Сначала, найдем общее количество вариантов вытащить 2 билета из 100:  \n",
    "\n",
    "$ C_{100}^2 = \\frac{100!}{2!\\cdot(100-2)!} = \\frac{100!}{2! \\cdot 98!} = \\frac{99 \\cdot 100}{2} = 4950 $  \n",
    "\n",
    "Оба значения в числителе будут равны 1, так что получаем ту же самую вероятность, что в первом варианте решения:  \n",
    "\n",
    "$$P = \\frac{1}{4950}$$"
   ]
  }
 ],
 "metadata": {
  "kernelspec": {
   "display_name": "Python 3",
   "language": "python",
   "name": "python3"
  },
  "language_info": {
   "codemirror_mode": {
    "name": "ipython",
    "version": 3
   },
   "file_extension": ".py",
   "mimetype": "text/x-python",
   "name": "python",
   "nbconvert_exporter": "python",
   "pygments_lexer": "ipython3",
   "version": "3.8.5"
  },
  "varInspector": {
   "cols": {
    "lenName": 16,
    "lenType": 16,
    "lenVar": 40
   },
   "kernels_config": {
    "python": {
     "delete_cmd_postfix": "",
     "delete_cmd_prefix": "del ",
     "library": "var_list.py",
     "varRefreshCmd": "print(var_dic_list())"
    },
    "r": {
     "delete_cmd_postfix": ") ",
     "delete_cmd_prefix": "rm(",
     "library": "var_list.r",
     "varRefreshCmd": "cat(var_dic_list()) "
    }
   },
   "types_to_exclude": [
    "module",
    "function",
    "builtin_function_or_method",
    "instance",
    "_Feature"
   ],
   "window_display": false
  }
 },
 "nbformat": 4,
 "nbformat_minor": 4
}
